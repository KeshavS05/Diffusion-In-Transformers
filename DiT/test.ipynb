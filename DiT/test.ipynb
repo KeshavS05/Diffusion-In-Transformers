{
 "cells": [
  {
   "cell_type": "code",
   "execution_count": 1,
   "metadata": {},
   "outputs": [
    {
     "name": "stdout",
     "output_type": "stream",
     "text": [
      "torch.Size([64, 512])\n",
      "torch.Size([10, 64, 512])\n",
      "torch.Size([10, 2, 512])\n"
     ]
    }
   ],
   "source": [
    "import torch\n",
    "import torch.nn\n",
    "from Preprocessing import Patchify, Embeddings\n",
    "\n",
    "device = \"cuda\" if torch.cuda.is_available() else \"cpu\"\n",
    "\n",
    "rand_tensor = torch.rand((10, 4, 32, 32)).to(device=device, dtype=torch.float32)\n",
    "# vae = VAE.VAE(\"mse\")\n",
    "# vae.encode(rand_tensor).shape\n",
    "\n",
    "patchify = Patchify.Patchify(4, 512)\n",
    "tokens = patchify(rand_tensor).to(device=device, dtype=torch.float32)\n",
    "\n",
    "pos = Embeddings.positional_embedding(64, 512)\n",
    "print(pos.shape)\n",
    "tokens = tokens + pos.unsqueeze(0)\n",
    "print(tokens.shape)\n",
    "      \n",
    "# Build conditioning tokens (B, 2, d)\n",
    "num_timesteps = 1000\n",
    "y_dim = 1000\n",
    "\n",
    "# Timesteps: [B] longs (0..num_timesteps-1)\n",
    "t = torch.randint(low=0, high=num_timesteps, size=(10,), device=device, dtype=torch.float32)\n",
    "\n",
    "# Labels: [B] longs (0..y_dim-1)\n",
    "y = torch.randint(low=0, high=y_dim, size=(10,), device=device, dtype=torch.long)\n",
    "\n",
    "InContextCondition = Embeddings.InContextConditioning(512, 256, 1000)\n",
    "cond_tokens = InContextCondition(t, y).to(tokens.dtype).to(tokens.device)\n",
    "print(cond_tokens.shape)\n",
    "\n"
   ]
  },
  {
   "cell_type": "code",
   "execution_count": 4,
   "metadata": {},
   "outputs": [],
   "source": [
    "import my_models\n",
    "blocks = my_models.DiTBlockList(d=512, blocks=10, type=\"In_Context\")"
   ]
  },
  {
   "cell_type": "code",
   "execution_count": 5,
   "metadata": {},
   "outputs": [],
   "source": [
    "seq = blocks(tokens, cond_tokens)"
   ]
  },
  {
   "cell_type": "code",
   "execution_count": 7,
   "metadata": {},
   "outputs": [
    {
     "data": {
      "text/plain": [
       "torch.Size([10, 64, 512])"
      ]
     },
     "execution_count": 7,
     "metadata": {},
     "output_type": "execute_result"
    }
   ],
   "source": [
    "\n",
    "img_tokens = seq[:, :64, :]\n",
    "img_tokens.shape"
   ]
  },
  {
   "cell_type": "code",
   "execution_count": 8,
   "metadata": {},
   "outputs": [
    {
     "data": {
      "text/plain": [
       "torch.Size([10, 8, 32, 32])"
      ]
     },
     "execution_count": 8,
     "metadata": {},
     "output_type": "execute_result"
    }
   ],
   "source": [
    "unpatchify = Patchify.Unpatchify(d=512, p=4)\n",
    "out = unpatchify(img_tokens)\n",
    "out.shape"
   ]
  },
  {
   "cell_type": "code",
   "execution_count": null,
   "metadata": {},
   "outputs": [],
   "source": []
  }
 ],
 "metadata": {
  "kernelspec": {
   "display_name": "base",
   "language": "python",
   "name": "python3"
  },
  "language_info": {
   "codemirror_mode": {
    "name": "ipython",
    "version": 3
   },
   "file_extension": ".py",
   "mimetype": "text/x-python",
   "name": "python",
   "nbconvert_exporter": "python",
   "pygments_lexer": "ipython3",
   "version": "3.9.13"
  }
 },
 "nbformat": 4,
 "nbformat_minor": 2
}
